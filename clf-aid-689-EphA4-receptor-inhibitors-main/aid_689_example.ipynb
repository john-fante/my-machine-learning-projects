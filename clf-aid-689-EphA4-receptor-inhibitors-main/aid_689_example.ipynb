{
  "nbformat": 4,
  "nbformat_minor": 0,
  "metadata": {
    "colab": {
      "provenance": []
    },
    "kernelspec": {
      "name": "python3",
      "display_name": "Python 3"
    },
    "language_info": {
      "name": "python"
    }
  },
  "cells": [
    {
      "cell_type": "markdown",
      "source": [
        "# Classification Activity of Inhibitors of EphA4 Receptor Antagonists (AID 689) with CatBoost\n",
        "\n",
        "\n",
        "*The EphA4 receptor(ephrin type-A receptor 4) plays a critical role  in the inhibition of axon regeneration that occurs after spinal cord injury. Besides ,there is a correlation between EphA4 and the neurodegenerative disease Amyotrophic lateral sclerosis (ALS).*\n",
        "\n",
        "\n",
        "> The assay is based on the binding of EphA4 to a peptide (KYL peptide) that interacts with the high affinity ephrin-binding site of EphA4. The goal is to find small molecules that inhibit this interaction.[1]\n",
        "\n",
        "\n",
        "\n",
        "\n",
        "# Results\n",
        "\n",
        "- Matthews Correlation Coefficient(MCC) : 0.782315\n",
        "\n",
        "# References\n",
        "\n",
        "- [1] National Center for Biotechnology Information (2023). PubChem Bioassay Record for AID 689, Colorimetric assay for HTS discovery of chemical inhibitors of EphA4 receptor antagonists, Source: Burnham Center for Chemical Genomics. Retrieved August 13, 2023 from https://pubchem.ncbi.nlm.nih.gov/bioassay/689.\n",
        "\n"
      ],
      "metadata": {
        "id": "Q-8bVU7CM2vn"
      }
    },
    {
      "cell_type": "code",
      "source": [
        "!pip install catboost"
      ],
      "metadata": {
        "colab": {
          "base_uri": "https://localhost:8080/"
        },
        "id": "AmkptnYYFbkW",
        "outputId": "70f4d8ba-2c34-4f43-e2bb-7275ddb8c096"
      },
      "execution_count": 1,
      "outputs": [
        {
          "output_type": "stream",
          "name": "stdout",
          "text": [
            "Requirement already satisfied: catboost in /usr/local/lib/python3.10/dist-packages (1.2)\n",
            "Requirement already satisfied: graphviz in /usr/local/lib/python3.10/dist-packages (from catboost) (0.20.1)\n",
            "Requirement already satisfied: matplotlib in /usr/local/lib/python3.10/dist-packages (from catboost) (3.7.1)\n",
            "Requirement already satisfied: numpy>=1.16.0 in /usr/local/lib/python3.10/dist-packages (from catboost) (1.23.5)\n",
            "Requirement already satisfied: pandas>=0.24 in /usr/local/lib/python3.10/dist-packages (from catboost) (1.5.3)\n",
            "Requirement already satisfied: scipy in /usr/local/lib/python3.10/dist-packages (from catboost) (1.10.1)\n",
            "Requirement already satisfied: plotly in /usr/local/lib/python3.10/dist-packages (from catboost) (5.15.0)\n",
            "Requirement already satisfied: six in /usr/local/lib/python3.10/dist-packages (from catboost) (1.16.0)\n",
            "Requirement already satisfied: python-dateutil>=2.8.1 in /usr/local/lib/python3.10/dist-packages (from pandas>=0.24->catboost) (2.8.2)\n",
            "Requirement already satisfied: pytz>=2020.1 in /usr/local/lib/python3.10/dist-packages (from pandas>=0.24->catboost) (2023.3)\n",
            "Requirement already satisfied: contourpy>=1.0.1 in /usr/local/lib/python3.10/dist-packages (from matplotlib->catboost) (1.1.0)\n",
            "Requirement already satisfied: cycler>=0.10 in /usr/local/lib/python3.10/dist-packages (from matplotlib->catboost) (0.11.0)\n",
            "Requirement already satisfied: fonttools>=4.22.0 in /usr/local/lib/python3.10/dist-packages (from matplotlib->catboost) (4.42.0)\n",
            "Requirement already satisfied: kiwisolver>=1.0.1 in /usr/local/lib/python3.10/dist-packages (from matplotlib->catboost) (1.4.4)\n",
            "Requirement already satisfied: packaging>=20.0 in /usr/local/lib/python3.10/dist-packages (from matplotlib->catboost) (23.1)\n",
            "Requirement already satisfied: pillow>=6.2.0 in /usr/local/lib/python3.10/dist-packages (from matplotlib->catboost) (9.4.0)\n",
            "Requirement already satisfied: pyparsing>=2.3.1 in /usr/local/lib/python3.10/dist-packages (from matplotlib->catboost) (3.1.1)\n",
            "Requirement already satisfied: tenacity>=6.2.0 in /usr/local/lib/python3.10/dist-packages (from plotly->catboost) (8.2.2)\n"
          ]
        }
      ]
    },
    {
      "cell_type": "code",
      "execution_count": 2,
      "metadata": {
        "id": "TCGo_QlnEzWg"
      },
      "outputs": [],
      "source": [
        "# importing dependencies\n",
        "\n",
        "import pandas as pd\n",
        "import numpy as np\n",
        "import seaborn as sns\n",
        "from catboost import CatBoostClassifier, cv, Pool\n",
        "\n",
        "from sklearn.model_selection import train_test_split\n",
        "from sklearn.metrics import classification_report , roc_auc_score, confusion_matrix, ConfusionMatrixDisplay\n",
        "from sklearn.metrics import f1_score, matthews_corrcoef\n",
        "from sklearn.impute import SimpleImputer\n",
        "\n",
        "from imblearn.over_sampling import RandomOverSampler\n"
      ]
    },
    {
      "cell_type": "code",
      "source": [
        "# reading and cleaning the dataset\n",
        "\n",
        "df  = pd.read_csv('/content/drive/MyDrive/Colab Notebooks/GeneralDB/AID_689_datatable.csv')\n",
        "df.drop([0,1,2,3], axis = 0, inplace = True)\n",
        "\n",
        "df.drop([ 'PUBCHEM_ACTIVITY_SCORE', 'PUBCHEM_ASSAYDATA_COMMENT', 'PUBCHEM_ACTIVITY_URL', 'IC50_Qualifier','IC50',\n",
        "          'Std.Err(IC50)','PUBCHEM_SID', 'PUBCHEM_CID', 'nH','PUBCHEM_RESULT_TAG','PUBCHEM_EXT_DATASOURCE_SMILES'], axis = 1 , inplace = True)\n"
      ],
      "metadata": {
        "colab": {
          "base_uri": "https://localhost:8080/"
        },
        "id": "nK3A-efgQ22K",
        "outputId": "c82c3f53-0b9d-43d4-df47-2fbb480c8782"
      },
      "execution_count": 3,
      "outputs": [
        {
          "output_type": "stream",
          "name": "stderr",
          "text": [
            "<ipython-input-3-e3403aa5d092>:3: DtypeWarning: Columns (0,7,8,9,10,11,12,13,14,15,16) have mixed types. Specify dtype option on import or set low_memory=False.\n",
            "  df  = pd.read_csv('/content/drive/MyDrive/Colab Notebooks/GeneralDB/AID_689_datatable.csv')\n"
          ]
        }
      ]
    },
    {
      "cell_type": "code",
      "source": [
        "df.head()"
      ],
      "metadata": {
        "colab": {
          "base_uri": "https://localhost:8080/",
          "height": 206
        },
        "id": "5He80pP_SnDY",
        "outputId": "12712ecd-0c95-4ab4-966f-c997724abaf9"
      },
      "execution_count": 4,
      "outputs": [
        {
          "output_type": "execute_result",
          "data": {
            "text/plain": [
              "  PUBCHEM_ACTIVITY_OUTCOME %Inhibition at 10 uM Mean High STD Deviation High  \\\n",
              "4                 Inactive                 39.3    0.7235           0.034592   \n",
              "5                 Inactive                   39   0.61563            0.03884   \n",
              "6                 Inactive                 38.9   0.74975           0.050264   \n",
              "7                 Inactive                 38.9   0.68775           0.012848   \n",
              "8                 Inactive                 38.4     0.675           0.013887   \n",
              "\n",
              "   Mean Low STD Deviation Low  \n",
              "4  0.053667         0.0083825  \n",
              "5  0.036667         0.0043205  \n",
              "6  0.041167          0.012271  \n",
              "7    0.0485         0.0059245  \n",
              "8  0.045333         0.0081404  "
            ],
            "text/html": [
              "\n",
              "\n",
              "  <div id=\"df-b73f7272-43a8-4a46-871e-87161eae31cb\">\n",
              "    <div class=\"colab-df-container\">\n",
              "      <div>\n",
              "<style scoped>\n",
              "    .dataframe tbody tr th:only-of-type {\n",
              "        vertical-align: middle;\n",
              "    }\n",
              "\n",
              "    .dataframe tbody tr th {\n",
              "        vertical-align: top;\n",
              "    }\n",
              "\n",
              "    .dataframe thead th {\n",
              "        text-align: right;\n",
              "    }\n",
              "</style>\n",
              "<table border=\"1\" class=\"dataframe\">\n",
              "  <thead>\n",
              "    <tr style=\"text-align: right;\">\n",
              "      <th></th>\n",
              "      <th>PUBCHEM_ACTIVITY_OUTCOME</th>\n",
              "      <th>%Inhibition at 10 uM</th>\n",
              "      <th>Mean High</th>\n",
              "      <th>STD Deviation High</th>\n",
              "      <th>Mean Low</th>\n",
              "      <th>STD Deviation Low</th>\n",
              "    </tr>\n",
              "  </thead>\n",
              "  <tbody>\n",
              "    <tr>\n",
              "      <th>4</th>\n",
              "      <td>Inactive</td>\n",
              "      <td>39.3</td>\n",
              "      <td>0.7235</td>\n",
              "      <td>0.034592</td>\n",
              "      <td>0.053667</td>\n",
              "      <td>0.0083825</td>\n",
              "    </tr>\n",
              "    <tr>\n",
              "      <th>5</th>\n",
              "      <td>Inactive</td>\n",
              "      <td>39</td>\n",
              "      <td>0.61563</td>\n",
              "      <td>0.03884</td>\n",
              "      <td>0.036667</td>\n",
              "      <td>0.0043205</td>\n",
              "    </tr>\n",
              "    <tr>\n",
              "      <th>6</th>\n",
              "      <td>Inactive</td>\n",
              "      <td>38.9</td>\n",
              "      <td>0.74975</td>\n",
              "      <td>0.050264</td>\n",
              "      <td>0.041167</td>\n",
              "      <td>0.012271</td>\n",
              "    </tr>\n",
              "    <tr>\n",
              "      <th>7</th>\n",
              "      <td>Inactive</td>\n",
              "      <td>38.9</td>\n",
              "      <td>0.68775</td>\n",
              "      <td>0.012848</td>\n",
              "      <td>0.0485</td>\n",
              "      <td>0.0059245</td>\n",
              "    </tr>\n",
              "    <tr>\n",
              "      <th>8</th>\n",
              "      <td>Inactive</td>\n",
              "      <td>38.4</td>\n",
              "      <td>0.675</td>\n",
              "      <td>0.013887</td>\n",
              "      <td>0.045333</td>\n",
              "      <td>0.0081404</td>\n",
              "    </tr>\n",
              "  </tbody>\n",
              "</table>\n",
              "</div>\n",
              "      <button class=\"colab-df-convert\" onclick=\"convertToInteractive('df-b73f7272-43a8-4a46-871e-87161eae31cb')\"\n",
              "              title=\"Convert this dataframe to an interactive table.\"\n",
              "              style=\"display:none;\">\n",
              "\n",
              "  <svg xmlns=\"http://www.w3.org/2000/svg\" height=\"24px\"viewBox=\"0 0 24 24\"\n",
              "       width=\"24px\">\n",
              "    <path d=\"M0 0h24v24H0V0z\" fill=\"none\"/>\n",
              "    <path d=\"M18.56 5.44l.94 2.06.94-2.06 2.06-.94-2.06-.94-.94-2.06-.94 2.06-2.06.94zm-11 1L8.5 8.5l.94-2.06 2.06-.94-2.06-.94L8.5 2.5l-.94 2.06-2.06.94zm10 10l.94 2.06.94-2.06 2.06-.94-2.06-.94-.94-2.06-.94 2.06-2.06.94z\"/><path d=\"M17.41 7.96l-1.37-1.37c-.4-.4-.92-.59-1.43-.59-.52 0-1.04.2-1.43.59L10.3 9.45l-7.72 7.72c-.78.78-.78 2.05 0 2.83L4 21.41c.39.39.9.59 1.41.59.51 0 1.02-.2 1.41-.59l7.78-7.78 2.81-2.81c.8-.78.8-2.07 0-2.86zM5.41 20L4 18.59l7.72-7.72 1.47 1.35L5.41 20z\"/>\n",
              "  </svg>\n",
              "      </button>\n",
              "\n",
              "\n",
              "\n",
              "    <div id=\"df-30793f5a-8dc6-45de-a053-f315f9309ee9\">\n",
              "      <button class=\"colab-df-quickchart\" onclick=\"quickchart('df-30793f5a-8dc6-45de-a053-f315f9309ee9')\"\n",
              "              title=\"Suggest charts.\"\n",
              "              style=\"display:none;\">\n",
              "\n",
              "<svg xmlns=\"http://www.w3.org/2000/svg\" height=\"24px\"viewBox=\"0 0 24 24\"\n",
              "     width=\"24px\">\n",
              "    <g>\n",
              "        <path d=\"M19 3H5c-1.1 0-2 .9-2 2v14c0 1.1.9 2 2 2h14c1.1 0 2-.9 2-2V5c0-1.1-.9-2-2-2zM9 17H7v-7h2v7zm4 0h-2V7h2v10zm4 0h-2v-4h2v4z\"/>\n",
              "    </g>\n",
              "</svg>\n",
              "      </button>\n",
              "    </div>\n",
              "\n",
              "<style>\n",
              "  .colab-df-quickchart {\n",
              "    background-color: #E8F0FE;\n",
              "    border: none;\n",
              "    border-radius: 50%;\n",
              "    cursor: pointer;\n",
              "    display: none;\n",
              "    fill: #1967D2;\n",
              "    height: 32px;\n",
              "    padding: 0 0 0 0;\n",
              "    width: 32px;\n",
              "  }\n",
              "\n",
              "  .colab-df-quickchart:hover {\n",
              "    background-color: #E2EBFA;\n",
              "    box-shadow: 0px 1px 2px rgba(60, 64, 67, 0.3), 0px 1px 3px 1px rgba(60, 64, 67, 0.15);\n",
              "    fill: #174EA6;\n",
              "  }\n",
              "\n",
              "  [theme=dark] .colab-df-quickchart {\n",
              "    background-color: #3B4455;\n",
              "    fill: #D2E3FC;\n",
              "  }\n",
              "\n",
              "  [theme=dark] .colab-df-quickchart:hover {\n",
              "    background-color: #434B5C;\n",
              "    box-shadow: 0px 1px 3px 1px rgba(0, 0, 0, 0.15);\n",
              "    filter: drop-shadow(0px 1px 2px rgba(0, 0, 0, 0.3));\n",
              "    fill: #FFFFFF;\n",
              "  }\n",
              "</style>\n",
              "\n",
              "    <script>\n",
              "      async function quickchart(key) {\n",
              "        const containerElement = document.querySelector('#' + key);\n",
              "        const charts = await google.colab.kernel.invokeFunction(\n",
              "            'suggestCharts', [key], {});\n",
              "      }\n",
              "    </script>\n",
              "\n",
              "      <script>\n",
              "\n",
              "function displayQuickchartButton(domScope) {\n",
              "  let quickchartButtonEl =\n",
              "    domScope.querySelector('#df-30793f5a-8dc6-45de-a053-f315f9309ee9 button.colab-df-quickchart');\n",
              "  quickchartButtonEl.style.display =\n",
              "    google.colab.kernel.accessAllowed ? 'block' : 'none';\n",
              "}\n",
              "\n",
              "        displayQuickchartButton(document);\n",
              "      </script>\n",
              "      <style>\n",
              "    .colab-df-container {\n",
              "      display:flex;\n",
              "      flex-wrap:wrap;\n",
              "      gap: 12px;\n",
              "    }\n",
              "\n",
              "    .colab-df-convert {\n",
              "      background-color: #E8F0FE;\n",
              "      border: none;\n",
              "      border-radius: 50%;\n",
              "      cursor: pointer;\n",
              "      display: none;\n",
              "      fill: #1967D2;\n",
              "      height: 32px;\n",
              "      padding: 0 0 0 0;\n",
              "      width: 32px;\n",
              "    }\n",
              "\n",
              "    .colab-df-convert:hover {\n",
              "      background-color: #E2EBFA;\n",
              "      box-shadow: 0px 1px 2px rgba(60, 64, 67, 0.3), 0px 1px 3px 1px rgba(60, 64, 67, 0.15);\n",
              "      fill: #174EA6;\n",
              "    }\n",
              "\n",
              "    [theme=dark] .colab-df-convert {\n",
              "      background-color: #3B4455;\n",
              "      fill: #D2E3FC;\n",
              "    }\n",
              "\n",
              "    [theme=dark] .colab-df-convert:hover {\n",
              "      background-color: #434B5C;\n",
              "      box-shadow: 0px 1px 3px 1px rgba(0, 0, 0, 0.15);\n",
              "      filter: drop-shadow(0px 1px 2px rgba(0, 0, 0, 0.3));\n",
              "      fill: #FFFFFF;\n",
              "    }\n",
              "  </style>\n",
              "\n",
              "      <script>\n",
              "        const buttonEl =\n",
              "          document.querySelector('#df-b73f7272-43a8-4a46-871e-87161eae31cb button.colab-df-convert');\n",
              "        buttonEl.style.display =\n",
              "          google.colab.kernel.accessAllowed ? 'block' : 'none';\n",
              "\n",
              "        async function convertToInteractive(key) {\n",
              "          const element = document.querySelector('#df-b73f7272-43a8-4a46-871e-87161eae31cb');\n",
              "          const dataTable =\n",
              "            await google.colab.kernel.invokeFunction('convertToInteractive',\n",
              "                                                     [key], {});\n",
              "          if (!dataTable) return;\n",
              "\n",
              "          const docLinkHtml = 'Like what you see? Visit the ' +\n",
              "            '<a target=\"_blank\" href=https://colab.research.google.com/notebooks/data_table.ipynb>data table notebook</a>'\n",
              "            + ' to learn more about interactive tables.';\n",
              "          element.innerHTML = '';\n",
              "          dataTable['output_type'] = 'display_data';\n",
              "          await google.colab.output.renderOutput(dataTable, element);\n",
              "          const docLink = document.createElement('div');\n",
              "          docLink.innerHTML = docLinkHtml;\n",
              "          element.appendChild(docLink);\n",
              "        }\n",
              "      </script>\n",
              "    </div>\n",
              "  </div>\n"
            ]
          },
          "metadata": {},
          "execution_count": 4
        }
      ]
    },
    {
      "cell_type": "code",
      "source": [
        "# classes distribution\n",
        "\n",
        "df['PUBCHEM_ACTIVITY_OUTCOME'].value_counts()"
      ],
      "metadata": {
        "colab": {
          "base_uri": "https://localhost:8080/"
        },
        "id": "uiQuvn0-uWhR",
        "outputId": "3d4fc1e2-5797-403c-c532-504963909c22"
      },
      "execution_count": 5,
      "outputs": [
        {
          "output_type": "execute_result",
          "data": {
            "text/plain": [
              "Inactive    61728\n",
              "Active         80\n",
              "Name: PUBCHEM_ACTIVITY_OUTCOME, dtype: int64"
            ]
          },
          "metadata": {},
          "execution_count": 5
        }
      ]
    },
    {
      "cell_type": "code",
      "source": [
        "# converting a few column data types\n",
        "# labels encodeing with 1 active, 0 non-active\n",
        "\n",
        "\n",
        "\n",
        "df[['%Inhibition at 10 uM', 'Mean High','STD Deviation High','Mean Low','STD Deviation Low']] = df[[ '%Inhibition at 10 uM', 'Mean High','STD Deviation High','Mean Low','STD Deviation Low']].apply(pd.to_numeric)\n",
        "\n",
        "df['PUBCHEM_ACTIVITY_OUTCOME_'] = df['PUBCHEM_ACTIVITY_OUTCOME'].apply(lambda x: 1 if x =='Active' else 0)\n",
        "\n",
        "y = df['PUBCHEM_ACTIVITY_OUTCOME_']\n",
        "X = df.drop(['PUBCHEM_ACTIVITY_OUTCOME','PUBCHEM_ACTIVITY_OUTCOME_'], axis =1)"
      ],
      "metadata": {
        "id": "QDNNyjFps8g8"
      },
      "execution_count": 6,
      "outputs": []
    },
    {
      "cell_type": "code",
      "source": [
        "# train-test splitting\n",
        "\n",
        "\n",
        "RANDOM_SEED = 20\n",
        "\n",
        "X_train, X_test, y_train, y_test = train_test_split(X,y, test_size = 0.2,\n",
        "                                                    stratify = y,\n",
        "                                                    random_state = RANDOM_SEED,\n",
        "                                                    shuffle = True)\n",
        "\n",
        "\n",
        "# oversampling in training data\n",
        "\n",
        "ros = RandomOverSampler(random_state=RANDOM_SEED)\n",
        "X_train, y_train = ros.fit_resample(X_train, y_train)"
      ],
      "metadata": {
        "id": "M6DCkHw3WMok"
      },
      "execution_count": 7,
      "outputs": []
    },
    {
      "cell_type": "code",
      "source": [
        "# creating the model and training\n",
        "# the model tuned with optuna\n",
        "\n",
        "model = CatBoostClassifier(iterations = 1200,\n",
        "                           verbose = 200,\n",
        "                           depth = 10,\n",
        "                           learning_rate= 0.0160001,\n",
        "                           min_child_samples = 18,\n",
        "                           early_stopping_rounds=10)\n",
        "\n",
        "\n",
        "model.fit(X_train, y_train)"
      ],
      "metadata": {
        "colab": {
          "base_uri": "https://localhost:8080/"
        },
        "id": "0RHGMF1lAOSs",
        "outputId": "a181f12e-f6a5-4375-fb8c-e3aba9c54b5f"
      },
      "execution_count": 8,
      "outputs": [
        {
          "output_type": "stream",
          "name": "stdout",
          "text": [
            "0:\tlearn: 0.6397838\ttotal: 101ms\tremaining: 2m 1s\n",
            "200:\tlearn: 0.0011883\ttotal: 22.5s\tremaining: 1m 51s\n",
            "400:\tlearn: 0.0005129\ttotal: 38.6s\tremaining: 1m 16s\n",
            "600:\tlearn: 0.0004340\ttotal: 46.6s\tremaining: 46.4s\n",
            "800:\tlearn: 0.0003918\ttotal: 56.7s\tremaining: 28.3s\n",
            "1000:\tlearn: 0.0003917\ttotal: 1m 4s\tremaining: 12.9s\n",
            "1199:\tlearn: 0.0003917\ttotal: 1m 12s\tremaining: 0us\n"
          ]
        },
        {
          "output_type": "execute_result",
          "data": {
            "text/plain": [
              "<catboost.core.CatBoostClassifier at 0x7cfa0cf7c520>"
            ]
          },
          "metadata": {},
          "execution_count": 8
        }
      ]
    },
    {
      "cell_type": "code",
      "source": [
        "# predicting and calculating some classification metrics\n",
        "\n",
        "pred = model.predict(X_test)\n",
        "\n",
        "report = classification_report(y_test, pred)\n",
        "matthews_Coef = matthews_corrcoef(y_test, pred)\n",
        "\n",
        "print(\"matthews_Coef :\" + str(matthews_Coef))\n",
        "print(report)"
      ],
      "metadata": {
        "colab": {
          "base_uri": "https://localhost:8080/"
        },
        "id": "nnEukYc9Bz7z",
        "outputId": "3112cefa-a50e-48ab-9027-9bc4585ef4b8"
      },
      "execution_count": 9,
      "outputs": [
        {
          "output_type": "stream",
          "name": "stdout",
          "text": [
            "matthews_Coef :0.7823158539517782\n",
            "              precision    recall  f1-score   support\n",
            "\n",
            "           0       1.00      1.00      1.00     12346\n",
            "           1       0.70      0.88      0.78        16\n",
            "\n",
            "    accuracy                           1.00     12362\n",
            "   macro avg       0.85      0.94      0.89     12362\n",
            "weighted avg       1.00      1.00      1.00     12362\n",
            "\n"
          ]
        }
      ]
    },
    {
      "cell_type": "code",
      "source": [
        "# plotting confusion matrix\n",
        "\n",
        "cm = confusion_matrix(y_test, pred)\n",
        "\n",
        "disp = ConfusionMatrixDisplay(cm, display_labels=['non-active','active'])\n",
        "disp.plot()"
      ],
      "metadata": {
        "colab": {
          "base_uri": "https://localhost:8080/",
          "height": 467
        },
        "id": "mGlSBSocxFCr",
        "outputId": "7db34b4a-243f-4a2f-8378-50e1f782a6a6"
      },
      "execution_count": 10,
      "outputs": [
        {
          "output_type": "execute_result",
          "data": {
            "text/plain": [
              "<sklearn.metrics._plot.confusion_matrix.ConfusionMatrixDisplay at 0x7cfa65dc37c0>"
            ]
          },
          "metadata": {},
          "execution_count": 10
        },
        {
          "output_type": "display_data",
          "data": {
            "text/plain": [
              "<Figure size 640x480 with 2 Axes>"
            ],
            "image/png": "[encoded data removed]"
          },
          "metadata": {}
        }
      ]
    }
  ]
}