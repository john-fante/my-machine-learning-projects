{
 "cells": [
  {
   "cell_type": "markdown",
   "id": "d3663b21",
   "metadata": {
    "papermill": {
     "duration": 0.006321,
     "end_time": "2023-08-14T22:50:56.194277",
     "exception": false,
     "start_time": "2023-08-14T22:50:56.187956",
     "status": "completed"
    },
    "tags": []
   },
   "source": [
    "<br>\n",
    "I tried a tuned CatBoostClassifier model.<br>\n",
    "\n",
    "\n",
    "## Result\n",
    "\n",
    "I used optuna for tuning hyperparameters.<br>\n",
    "\n",
    "|          \t| Score   \t|\n",
    "|----------\t|---------\t|\n",
    "| Test ACC \t| 77.92 % \t|\n",
    "| ROC AUC  \t| 0.77037 \t|\n",
    "| MCC      \t| 0.52911 \t|\n",
    "\n"
   ]
  },
  {
   "cell_type": "code",
   "execution_count": 1,
   "id": "0a3bc728",
   "metadata": {
    "execution": {
     "iopub.execute_input": "2023-08-14T22:50:56.208324Z",
     "iopub.status.busy": "2023-08-14T22:50:56.207720Z",
     "iopub.status.idle": "2023-08-14T22:50:58.356970Z",
     "shell.execute_reply": "2023-08-14T22:50:58.355635Z"
    },
    "papermill": {
     "duration": 2.159419,
     "end_time": "2023-08-14T22:50:58.359925",
     "exception": false,
     "start_time": "2023-08-14T22:50:56.200506",
     "status": "completed"
    },
    "tags": []
   },
   "outputs": [],
   "source": [
    "# Importing dependencies\n",
    "\n",
    "import warnings\n",
    "warnings.filterwarnings('ignore') \n",
    "\n",
    "import numpy as np\n",
    "import pandas as pd\n",
    "import matplotlib.pyplot as plt\n",
    "import seaborn as sns\n",
    "\n",
    "from sklearn.preprocessing import MinMaxScaler, StandardScaler, LabelBinarizer\n",
    "from sklearn.model_selection import train_test_split\n",
    "from sklearn.metrics import roc_auc_score, classification_report, matthews_corrcoef,accuracy_score\n",
    "from sklearn.metrics import confusion_matrix,ConfusionMatrixDisplay,RocCurveDisplay\n",
    "\n",
    "from catboost import CatBoostClassifier"
   ]
  },
  {
   "cell_type": "code",
   "execution_count": 2,
   "id": "7cddba04",
   "metadata": {
    "execution": {
     "iopub.execute_input": "2023-08-14T22:50:58.372723Z",
     "iopub.status.busy": "2023-08-14T22:50:58.372270Z",
     "iopub.status.idle": "2023-08-14T22:50:58.423433Z",
     "shell.execute_reply": "2023-08-14T22:50:58.422146Z"
    },
    "papermill": {
     "duration": 0.06124,
     "end_time": "2023-08-14T22:50:58.426557",
     "exception": false,
     "start_time": "2023-08-14T22:50:58.365317",
     "status": "completed"
    },
    "tags": []
   },
   "outputs": [
    {
     "data": {
      "text/html": [
       "<div>\n",
       "<style scoped>\n",
       "    .dataframe tbody tr th:only-of-type {\n",
       "        vertical-align: middle;\n",
       "    }\n",
       "\n",
       "    .dataframe tbody tr th {\n",
       "        vertical-align: top;\n",
       "    }\n",
       "\n",
       "    .dataframe thead th {\n",
       "        text-align: right;\n",
       "    }\n",
       "</style>\n",
       "<table border=\"1\" class=\"dataframe\">\n",
       "  <thead>\n",
       "    <tr style=\"text-align: right;\">\n",
       "      <th></th>\n",
       "      <th>Pregnancies</th>\n",
       "      <th>Glucose</th>\n",
       "      <th>BloodPressure</th>\n",
       "      <th>SkinThickness</th>\n",
       "      <th>Insulin</th>\n",
       "      <th>BMI</th>\n",
       "      <th>DiabetesPedigreeFunction</th>\n",
       "      <th>Age</th>\n",
       "      <th>Outcome</th>\n",
       "    </tr>\n",
       "  </thead>\n",
       "  <tbody>\n",
       "    <tr>\n",
       "      <th>0</th>\n",
       "      <td>6</td>\n",
       "      <td>148</td>\n",
       "      <td>72</td>\n",
       "      <td>35</td>\n",
       "      <td>0</td>\n",
       "      <td>33.6</td>\n",
       "      <td>0.627</td>\n",
       "      <td>50</td>\n",
       "      <td>dead</td>\n",
       "    </tr>\n",
       "    <tr>\n",
       "      <th>1</th>\n",
       "      <td>1</td>\n",
       "      <td>85</td>\n",
       "      <td>66</td>\n",
       "      <td>29</td>\n",
       "      <td>0</td>\n",
       "      <td>26.6</td>\n",
       "      <td>0.351</td>\n",
       "      <td>31</td>\n",
       "      <td>alive</td>\n",
       "    </tr>\n",
       "    <tr>\n",
       "      <th>2</th>\n",
       "      <td>8</td>\n",
       "      <td>183</td>\n",
       "      <td>64</td>\n",
       "      <td>0</td>\n",
       "      <td>0</td>\n",
       "      <td>23.3</td>\n",
       "      <td>0.672</td>\n",
       "      <td>32</td>\n",
       "      <td>dead</td>\n",
       "    </tr>\n",
       "    <tr>\n",
       "      <th>3</th>\n",
       "      <td>1</td>\n",
       "      <td>89</td>\n",
       "      <td>66</td>\n",
       "      <td>23</td>\n",
       "      <td>94</td>\n",
       "      <td>28.1</td>\n",
       "      <td>0.167</td>\n",
       "      <td>21</td>\n",
       "      <td>alive</td>\n",
       "    </tr>\n",
       "    <tr>\n",
       "      <th>4</th>\n",
       "      <td>0</td>\n",
       "      <td>137</td>\n",
       "      <td>40</td>\n",
       "      <td>35</td>\n",
       "      <td>168</td>\n",
       "      <td>43.1</td>\n",
       "      <td>2.288</td>\n",
       "      <td>33</td>\n",
       "      <td>dead</td>\n",
       "    </tr>\n",
       "  </tbody>\n",
       "</table>\n",
       "</div>"
      ],
      "text/plain": [
       "   Pregnancies  Glucose  BloodPressure  SkinThickness  Insulin   BMI  \\\n",
       "0            6      148             72             35        0  33.6   \n",
       "1            1       85             66             29        0  26.6   \n",
       "2            8      183             64              0        0  23.3   \n",
       "3            1       89             66             23       94  28.1   \n",
       "4            0      137             40             35      168  43.1   \n",
       "\n",
       "   DiabetesPedigreeFunction  Age Outcome  \n",
       "0                     0.627   50    dead  \n",
       "1                     0.351   31   alive  \n",
       "2                     0.672   32    dead  \n",
       "3                     0.167   21   alive  \n",
       "4                     2.288   33    dead  "
      ]
     },
     "execution_count": 2,
     "metadata": {},
     "output_type": "execute_result"
    }
   ],
   "source": [
    "# Reading data\n",
    "\n",
    "data = pd.read_csv('/kaggle/input/diabetes-factors/diabetes-vid.csv')\n",
    "data.head()"
   ]
  },
  {
   "cell_type": "code",
   "execution_count": 3,
   "id": "f303e7de",
   "metadata": {
    "execution": {
     "iopub.execute_input": "2023-08-14T22:50:58.440872Z",
     "iopub.status.busy": "2023-08-14T22:50:58.440449Z",
     "iopub.status.idle": "2023-08-14T22:50:58.455492Z",
     "shell.execute_reply": "2023-08-14T22:50:58.454330Z"
    },
    "papermill": {
     "duration": 0.025709,
     "end_time": "2023-08-14T22:50:58.458016",
     "exception": false,
     "start_time": "2023-08-14T22:50:58.432307",
     "status": "completed"
    },
    "tags": []
   },
   "outputs": [
    {
     "data": {
      "text/plain": [
       "alive    500\n",
       "dead     268\n",
       "Name: Outcome, dtype: int64"
      ]
     },
     "execution_count": 3,
     "metadata": {},
     "output_type": "execute_result"
    }
   ],
   "source": [
    "data['Outcome'].value_counts()"
   ]
  },
  {
   "cell_type": "code",
   "execution_count": 4,
   "id": "923045eb",
   "metadata": {
    "execution": {
     "iopub.execute_input": "2023-08-14T22:50:58.471592Z",
     "iopub.status.busy": "2023-08-14T22:50:58.471176Z",
     "iopub.status.idle": "2023-08-14T22:50:58.492449Z",
     "shell.execute_reply": "2023-08-14T22:50:58.491396Z"
    },
    "papermill": {
     "duration": 0.031153,
     "end_time": "2023-08-14T22:50:58.495014",
     "exception": false,
     "start_time": "2023-08-14T22:50:58.463861",
     "status": "completed"
    },
    "tags": []
   },
   "outputs": [],
   "source": [
    "# Seperating into data features and target\n",
    "\n",
    "X = data.iloc[:, :-1]\n",
    "y = data['Outcome']\n",
    "\n",
    "# Encoding classes\n",
    "\n",
    "LB = LabelBinarizer()\n",
    "y = LB.fit_transform(y)"
   ]
  },
  {
   "cell_type": "code",
   "execution_count": 5,
   "id": "e14e37ef",
   "metadata": {
    "execution": {
     "iopub.execute_input": "2023-08-14T22:50:58.508892Z",
     "iopub.status.busy": "2023-08-14T22:50:58.508482Z",
     "iopub.status.idle": "2023-08-14T22:50:58.526812Z",
     "shell.execute_reply": "2023-08-14T22:50:58.525357Z"
    },
    "papermill": {
     "duration": 0.028265,
     "end_time": "2023-08-14T22:50:58.529387",
     "exception": false,
     "start_time": "2023-08-14T22:50:58.501122",
     "status": "completed"
    },
    "tags": []
   },
   "outputs": [
    {
     "name": "stdout",
     "output_type": "stream",
     "text": [
      "X_train shape ->  (614, 8)\n",
      "X_test shape ->  (154, 8)\n"
     ]
    }
   ],
   "source": [
    "# Splitting dataset for train and test\n",
    "\n",
    "X_train, X_test, y_train, y_test = train_test_split(X,y, test_size = 0.2, shuffle = True ,stratify = y, random_state = 10 )\n",
    "\n",
    "\n",
    "print(\"X_train shape -> \", X_train.shape)\n",
    "print(\"X_test shape -> \", X_test.shape)"
   ]
  },
  {
   "cell_type": "code",
   "execution_count": 6,
   "id": "43e2d312",
   "metadata": {
    "execution": {
     "iopub.execute_input": "2023-08-14T22:50:58.542911Z",
     "iopub.status.busy": "2023-08-14T22:50:58.542481Z",
     "iopub.status.idle": "2023-08-14T22:50:58.556131Z",
     "shell.execute_reply": "2023-08-14T22:50:58.555200Z"
    },
    "papermill": {
     "duration": 0.023367,
     "end_time": "2023-08-14T22:50:58.558670",
     "exception": false,
     "start_time": "2023-08-14T22:50:58.535303",
     "status": "completed"
    },
    "tags": []
   },
   "outputs": [],
   "source": [
    "# Scaled all features\n",
    "\n",
    "train_MMS  = MinMaxScaler()\n",
    "test_MMS  = MinMaxScaler()\n",
    "\n",
    "X_train = train_MMS.fit_transform(X_train)\n",
    "X_test = test_MMS.fit_transform(X_test)"
   ]
  },
  {
   "cell_type": "markdown",
   "id": "7198ac67",
   "metadata": {
    "papermill": {
     "duration": 0.005617,
     "end_time": "2023-08-14T22:50:58.570369",
     "exception": false,
     "start_time": "2023-08-14T22:50:58.564752",
     "status": "completed"
    },
    "tags": []
   },
   "source": [
    "# <span style=\"color:#e74c3c;\"> CatBoostClassifier </span> Model"
   ]
  },
  {
   "cell_type": "code",
   "execution_count": 7,
   "id": "ae360d65",
   "metadata": {
    "execution": {
     "iopub.execute_input": "2023-08-14T22:50:58.584297Z",
     "iopub.status.busy": "2023-08-14T22:50:58.583845Z",
     "iopub.status.idle": "2023-08-14T23:14:20.554445Z",
     "shell.execute_reply": "2023-08-14T23:14:20.553157Z"
    },
    "papermill": {
     "duration": 1401.980662,
     "end_time": "2023-08-14T23:14:20.556867",
     "exception": false,
     "start_time": "2023-08-14T22:50:58.576205",
     "status": "completed"
    },
    "tags": []
   },
   "outputs": [
    {
     "name": "stdout",
     "output_type": "stream",
     "text": [
      "0:\tlearn: 0.6917106\ttotal: 114ms\tremaining: 18m 55s\n",
      "2000:\tlearn: 0.0915051\ttotal: 4m 28s\tremaining: 17m 52s\n",
      "4000:\tlearn: 0.0376281\ttotal: 9m\tremaining: 13m 31s\n",
      "6000:\tlearn: 0.0213692\ttotal: 13m 38s\tremaining: 9m 5s\n",
      "8000:\tlearn: 0.0146220\ttotal: 18m 18s\tremaining: 4m 34s\n",
      "9999:\tlearn: 0.0110194\ttotal: 22m 55s\tremaining: 0us\n"
     ]
    },
    {
     "data": {
      "text/plain": [
       "<catboost.core.CatBoostClassifier at 0x7cc86d056680>"
      ]
     },
     "execution_count": 7,
     "metadata": {},
     "output_type": "execute_result"
    }
   ],
   "source": [
    "# Training with tuned CatBoostClassifier model\n",
    "\n",
    "model = CatBoostClassifier(iterations = 10000, learning_rate = 0.0020001,  depth= 14, l2_leaf_reg= 2.5, min_child_samples= 19)\n",
    "\n",
    "model.fit(X_train, y_train,  verbose = 2000)"
   ]
  },
  {
   "cell_type": "markdown",
   "id": "85ba934b",
   "metadata": {
    "papermill": {
     "duration": 0.00629,
     "end_time": "2023-08-14T23:14:20.569798",
     "exception": false,
     "start_time": "2023-08-14T23:14:20.563508",
     "status": "completed"
    },
    "tags": []
   },
   "source": [
    "# <span style=\"color:#e74c3c;\"> Results </span> "
   ]
  },
  {
   "cell_type": "code",
   "execution_count": 8,
   "id": "551c4e8f",
   "metadata": {
    "execution": {
     "iopub.execute_input": "2023-08-14T23:14:20.585119Z",
     "iopub.status.busy": "2023-08-14T23:14:20.584429Z",
     "iopub.status.idle": "2023-08-14T23:14:20.623517Z",
     "shell.execute_reply": "2023-08-14T23:14:20.622283Z"
    },
    "papermill": {
     "duration": 0.049761,
     "end_time": "2023-08-14T23:14:20.626112",
     "exception": false,
     "start_time": "2023-08-14T23:14:20.576351",
     "status": "completed"
    },
    "tags": []
   },
   "outputs": [
    {
     "name": "stdout",
     "output_type": "stream",
     "text": [
      "Test Accuracy : 77.92 %\n",
      "ROC AUC Score : 0.77037\n",
      "Matthews Correlation Coefficient(MCC)  : 0.52911\n",
      "              precision    recall  f1-score   support\n",
      "\n",
      "           0       0.85      0.80      0.82       100\n",
      "           1       0.67      0.74      0.70        54\n",
      "\n",
      "    accuracy                           0.78       154\n",
      "   macro avg       0.76      0.77      0.76       154\n",
      "weighted avg       0.79      0.78      0.78       154\n",
      "\n"
     ]
    }
   ],
   "source": [
    "# Predicting and calculating some metrics\n",
    "\n",
    "pred = model.predict(X_test)\n",
    "\n",
    "acc = accuracy_score(y_test, pred)*100\n",
    "mcc = matthews_corrcoef(y_test, pred)\n",
    "roc_auc = roc_auc_score(y_test, pred)\n",
    "\n",
    "print('Test Accuracy : {0:.2f} %'.format(acc))\n",
    "print('ROC AUC Score : {0:.5f}'.format(roc_auc))\n",
    "print('Matthews Correlation Coefficient(MCC)  : {0:.5f}'.format(mcc))\n",
    "\n",
    "\n",
    "rep = classification_report(y_test, pred) \n",
    "print(rep)"
   ]
  },
  {
   "cell_type": "markdown",
   "id": "08eead08",
   "metadata": {
    "papermill": {
     "duration": 0.006429,
     "end_time": "2023-08-14T23:14:20.639937",
     "exception": false,
     "start_time": "2023-08-14T23:14:20.633508",
     "status": "completed"
    },
    "tags": []
   },
   "source": [
    "# <span style=\"color:#e74c3c;\"> Plotting </span> Confusion Matrix"
   ]
  },
  {
   "cell_type": "code",
   "execution_count": 9,
   "id": "95664af3",
   "metadata": {
    "execution": {
     "iopub.execute_input": "2023-08-14T23:14:20.656077Z",
     "iopub.status.busy": "2023-08-14T23:14:20.655375Z",
     "iopub.status.idle": "2023-08-14T23:14:21.040964Z",
     "shell.execute_reply": "2023-08-14T23:14:21.039913Z"
    },
    "papermill": {
     "duration": 0.396743,
     "end_time": "2023-08-14T23:14:21.043535",
     "exception": false,
     "start_time": "2023-08-14T23:14:20.646792",
     "status": "completed"
    },
    "tags": []
   },
   "outputs": [
    {
     "data": {
      "text/plain": [
       "<sklearn.metrics._plot.confusion_matrix.ConfusionMatrixDisplay at 0x7cc86d056c20>"
      ]
     },
     "execution_count": 9,
     "metadata": {},
     "output_type": "execute_result"
    },
    {
     "data": {
      "image/png": "[encoded data removed]",
      "text/plain": [
       "<Figure size 640x480 with 2 Axes>"
      ]
     },
     "metadata": {},
     "output_type": "display_data"
    }
   ],
   "source": [
    "# Plotting the confusion matrix \n",
    "\n",
    "cm = confusion_matrix(y_test, pred )\n",
    "disp = ConfusionMatrixDisplay(cm, display_labels= LB.classes_)\n",
    "disp.plot()"
   ]
  },
  {
   "cell_type": "markdown",
   "id": "cbcd47bd",
   "metadata": {
    "papermill": {
     "duration": 0.006841,
     "end_time": "2023-08-14T23:14:21.057626",
     "exception": false,
     "start_time": "2023-08-14T23:14:21.050785",
     "status": "completed"
    },
    "tags": []
   },
   "source": [
    "# <span style=\"color:#e74c3c;\"> Plotting </span> ROC Curve"
   ]
  },
  {
   "cell_type": "code",
   "execution_count": 10,
   "id": "6ab5c120",
   "metadata": {
    "execution": {
     "iopub.execute_input": "2023-08-14T23:14:21.074438Z",
     "iopub.status.busy": "2023-08-14T23:14:21.073581Z",
     "iopub.status.idle": "2023-08-14T23:14:21.415678Z",
     "shell.execute_reply": "2023-08-14T23:14:21.414419Z"
    },
    "papermill": {
     "duration": 0.353692,
     "end_time": "2023-08-14T23:14:21.418436",
     "exception": false,
     "start_time": "2023-08-14T23:14:21.064744",
     "status": "completed"
    },
    "tags": []
   },
   "outputs": [
    {
     "data": {
      "text/plain": [
       "<sklearn.metrics._plot.roc_curve.RocCurveDisplay at 0x7cc86d057b80>"
      ]
     },
     "execution_count": 10,
     "metadata": {},
     "output_type": "execute_result"
    },
    {
     "data": {
      "image/png": "[encoded data removed]",
      "text/plain": [
       "<Figure size 640x480 with 1 Axes>"
      ]
     },
     "metadata": {},
     "output_type": "display_data"
    }
   ],
   "source": [
    "# Plotting the ROC Curve \n",
    "\n",
    "RocCurveDisplay.from_estimator(model, X_test, y_test, color='red')"
   ]
  }
 ],
 "metadata": {
  "kernelspec": {
   "display_name": "Python 3",
   "language": "python",
   "name": "python3"
  },
  "language_info": {
   "codemirror_mode": {
    "name": "ipython",
    "version": 3
   },
   "file_extension": ".py",
   "mimetype": "text/x-python",
   "name": "python",
   "nbconvert_exporter": "python",
   "pygments_lexer": "ipython3",
   "version": "3.10.12"
  },
  "papermill": {
   "default_parameters": {},
   "duration": 1419.286389,
   "end_time": "2023-08-14T23:14:23.257352",
   "environment_variables": {},
   "exception": null,
   "input_path": "__notebook__.ipynb",
   "output_path": "__notebook__.ipynb",
   "parameters": {},
   "start_time": "2023-08-14T22:50:43.970963",
   "version": "2.4.0"
  }
 },
 "nbformat": 4,
 "nbformat_minor": 5
}
